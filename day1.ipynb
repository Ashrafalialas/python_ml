{
  "nbformat": 4,
  "nbformat_minor": 0,
  "metadata": {
    "colab": {
      "provenance": []
    },
    "kernelspec": {
      "name": "python3",
      "display_name": "Python 3"
    },
    "language_info": {
      "name": "python"
    }
  },
  "cells": [
    {
      "cell_type": "code",
      "execution_count": 15,
      "metadata": {
        "id": "vw4GfQUuxphz"
      },
      "outputs": [],
      "source": []
    },
    {
      "cell_type": "markdown",
      "source": [],
      "metadata": {
        "id": "yxiOcC5RzGdF"
      }
    },
    {
      "cell_type": "code",
      "source": [
        "print(\"hello worls\")\n",
        "x=10\n",
        "y=20\n",
        "print(x)\n"
      ],
      "metadata": {
        "colab": {
          "base_uri": "https://localhost:8080/"
        },
        "id": "LxeeWfWczFsM",
        "outputId": "20246ff4-ccff-481a-d74d-0b1999186cf3"
      },
      "execution_count": 16,
      "outputs": [
        {
          "output_type": "stream",
          "name": "stdout",
          "text": [
            "hello worls\n",
            "10\n"
          ]
        }
      ]
    },
    {
      "cell_type": "code",
      "source": [
        "age=25\n",
        "height='hello'\n",
        "complex_num=3+4j\n",
        "print(age)\n",
        "\n"
      ],
      "metadata": {
        "colab": {
          "base_uri": "https://localhost:8080/"
        },
        "id": "WG6VjmHI11O0",
        "outputId": "bac1dc62-25b6-458c-c0ef-0ba531071358"
      },
      "execution_count": 17,
      "outputs": [
        {
          "output_type": "stream",
          "name": "stdout",
          "text": [
            "25\n"
          ]
        }
      ]
    },
    {
      "cell_type": "markdown",
      "source": [
        "INDENTATION MATTERS"
      ],
      "metadata": {
        "id": "yLRd0StV7-rm"
      }
    },
    {
      "cell_type": "code",
      "source": [
        "if x>0:\n",
        "  print(\"x is positive\")\n",
        "  print(\"this is inside block\")"
      ],
      "metadata": {
        "colab": {
          "base_uri": "https://localhost:8080/"
        },
        "id": "-SE2uO4T7yTk",
        "outputId": "ede18a73-f97e-4ab1-d35f-c8e7a0a4abf9"
      },
      "execution_count": 18,
      "outputs": [
        {
          "output_type": "stream",
          "name": "stdout",
          "text": [
            "x is positive\n",
            "this is inside block\n"
          ]
        }
      ]
    },
    {
      "cell_type": "markdown",
      "source": [
        "Boolean Type"
      ],
      "metadata": {
        "id": "jkoVcAwg8bZV"
      }
    },
    {
      "cell_type": "code",
      "source": [
        "is_active=True\n",
        "is_active=False\n",
        "print(is_active)"
      ],
      "metadata": {
        "colab": {
          "base_uri": "https://localhost:8080/"
        },
        "id": "nym8FqXM8nTm",
        "outputId": "22b33593-a0a8-4469-f481-8e5715887b58"
      },
      "execution_count": 19,
      "outputs": [
        {
          "output_type": "stream",
          "name": "stdout",
          "text": [
            "False\n"
          ]
        }
      ]
    },
    {
      "cell_type": "markdown",
      "source": [
        "Type Checking"
      ],
      "metadata": {
        "id": "mqTkaAy78-KU"
      }
    },
    {
      "cell_type": "code",
      "source": [
        "print(type(age))\n",
        "print(type(height))"
      ],
      "metadata": {
        "colab": {
          "base_uri": "https://localhost:8080/"
        },
        "id": "n-FahjVl9Cvc",
        "outputId": "c6b32097-2619-4c1b-ad63-9efdcb8af4c2"
      },
      "execution_count": 20,
      "outputs": [
        {
          "output_type": "stream",
          "name": "stdout",
          "text": [
            "<class 'int'>\n",
            "<class 'str'>\n"
          ]
        }
      ]
    },
    {
      "cell_type": "markdown",
      "source": [
        "Type converstion"
      ],
      "metadata": {
        "id": "6sx7__PP9Ti-"
      }
    },
    {
      "cell_type": "code",
      "source": [
        "str_num=\"123\"\n",
        "int_num=int(str_num)\n",
        "\n",
        "print(f\"original:{str_num}(type:{type(str_num)})\")"
      ],
      "metadata": {
        "colab": {
          "base_uri": "https://localhost:8080/"
        },
        "id": "i7HVF2I69YqW",
        "outputId": "bceac98d-f524-4e92-c494-dffcedcac411"
      },
      "execution_count": 21,
      "outputs": [
        {
          "output_type": "stream",
          "name": "stdout",
          "text": [
            "original:123(type:<class 'str'>)\n"
          ]
        }
      ]
    },
    {
      "cell_type": "markdown",
      "source": [
        "Personal information"
      ],
      "metadata": {
        "id": "DgdyHWoUD-9H"
      }
    },
    {
      "cell_type": "code",
      "source": [
        "first_name=\"hello\"\n",
        "second_name=\"he who\"\n",
        "print(f\"{first_name} {second_name}\")"
      ],
      "metadata": {
        "colab": {
          "base_uri": "https://localhost:8080/"
        },
        "id": "4yhBPzeCED9F",
        "outputId": "725fbed7-2246-47de-b9c1-df1d2d039a68"
      },
      "execution_count": 27,
      "outputs": [
        {
          "output_type": "stream",
          "name": "stdout",
          "text": [
            "hello he who\n"
          ]
        }
      ]
    },
    {
      "cell_type": "code",
      "source": [],
      "metadata": {
        "id": "ules6zunI8s4"
      },
      "execution_count": null,
      "outputs": []
    }
  ]
}